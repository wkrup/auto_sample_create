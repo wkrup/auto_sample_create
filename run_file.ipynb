{
 "cells": [
  {
   "cell_type": "code",
   "execution_count": 9,
   "metadata": {},
   "outputs": [],
   "source": [
    "import pyautogui \n",
    "import subprocess\n",
    "import time\n",
    "import os"
   ]
  },
  {
   "cell_type": "code",
   "execution_count": 10,
   "metadata": {},
   "outputs": [],
   "source": [
    "program = \"C:\\Program Files\\Vital\\Vital.exe\"\n",
    "file_path = \"C:\\\\Users\\\\SKT\\\\Desktop\\\\run_auto\\\\Pluck_CTGAN_synthesizer\\\\Pluck_CTGAN_synthesizer\\\\AIU_Preset_4.vital\""
   ]
  },
  {
   "cell_type": "code",
   "execution_count": 11,
   "metadata": {},
   "outputs": [
    {
     "data": {
      "text/plain": [
       "Point(x=1760, y=28)"
      ]
     },
     "execution_count": 11,
     "metadata": {},
     "output_type": "execute_result"
    }
   ],
   "source": [
    "pyautogui.position()"
   ]
  },
  {
   "cell_type": "code",
   "execution_count": 7,
   "metadata": {},
   "outputs": [],
   "source": [
    "def play_note(note_key):\n",
    "    with pyautogui.hold(note_key):\n",
    "        time.sleep(0.5)"
   ]
  },
  {
   "cell_type": "code",
   "execution_count": 8,
   "metadata": {},
   "outputs": [],
   "source": [
    "pyautogui.hotkey('win', 'r')  # Opens the Run dialog\n",
    "time.sleep(1)\n",
    "pyautogui.write(program)  # Type the program name\n",
    "pyautogui.press('enter')  # Press Enter to open the program\n",
    "\n",
    "# Wait for the program to open\n",
    "time.sleep(2)\n",
    "\n",
    "file_menu_x, file_menu_y = 1313, 62\n",
    "open_menu_x, open_menu_y = 1313, 142\n",
    "\n",
    "# print(pyautogui.position())\n",
    "\n",
    "## open preset file\n",
    "pyautogui.moveTo(file_menu_x, file_menu_y, duration=0.5)\n",
    "pyautogui.click()\n",
    "\n",
    "pyautogui.moveTo(open_menu_x, open_menu_y, duration=0.5)\n",
    "pyautogui.click()\n",
    "\n",
    "pyautogui.write(\"C\" + file_path)  # Type the full file path\n",
    "pyautogui.press('enter')  # Press Enter to open the file\n",
    "\n",
    "# pyautogui.moveTo(1313, 500, duration=0.5)\n",
    "# pyautogui.click()\n",
    "\n",
    "##play keyboard\n",
    "# pyautogui.keyDown('a')\n",
    "\n",
    "note_list = ['a','s','d', 'f', 'g', 'h', 'j', 'k']\n",
    "\n",
    "for i in note_list:\n",
    "    play_note(i)\n",
    "\n",
    "\n",
    "\n",
    "\n"
   ]
  }
 ],
 "metadata": {
  "kernelspec": {
   "display_name": "flyai_env",
   "language": "python",
   "name": "python3"
  },
  "language_info": {
   "codemirror_mode": {
    "name": "ipython",
    "version": 3
   },
   "file_extension": ".py",
   "mimetype": "text/x-python",
   "name": "python",
   "nbconvert_exporter": "python",
   "pygments_lexer": "ipython3",
   "version": "3.9.19"
  }
 },
 "nbformat": 4,
 "nbformat_minor": 2
}
